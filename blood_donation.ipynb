{
 "cells": [
  {
   "cell_type": "markdown",
   "metadata": {},
   "source": [
    "## Import Libraries"
   ]
  },
  {
   "cell_type": "code",
   "execution_count": 230,
   "metadata": {},
   "outputs": [],
   "source": [
    "import pandas as pd \n",
    "import numpy as np \n",
    "import matplotlib.pyplot as plt \n",
    "import seaborn as sns \n",
    "from sklearn.preprocessing import MinMaxScaler\n",
    "from sklearn.model_selection import train_test_split\n",
    "from sklearn.metrics import accuracy_score, recall_score, precision_score, f1_score, confusion_matrix\n",
    "from sklearn.ensemble import RandomForestClassifier, GradientBoostingClassifier\n",
    "from sklearn.tree import DecisionTreeClassifier\n",
    "from sklearn.naive_bayes import GaussianNB\n",
    "from sklearn.neighbors import KNeighborsClassifier\n",
    "from sklearn.svm import SVC\n",
    "from sklearn.linear_model import LogisticRegression\n",
    "from xgboost import XGBClassifier\n",
    "from catboost import CatBoostClassifier\n",
    "from lightgbm import LGBMClassifier\n",
    "from imblearn.over_sampling import RandomOverSampler"
   ]
  },
  {
   "cell_type": "markdown",
   "metadata": {},
   "source": [
    "## Import Dataset"
   ]
  },
  {
   "cell_type": "code",
   "execution_count": 231,
   "metadata": {},
   "outputs": [
    {
     "data": {
      "text/html": [
       "<div>\n",
       "<style scoped>\n",
       "    .dataframe tbody tr th:only-of-type {\n",
       "        vertical-align: middle;\n",
       "    }\n",
       "\n",
       "    .dataframe tbody tr th {\n",
       "        vertical-align: top;\n",
       "    }\n",
       "\n",
       "    .dataframe thead th {\n",
       "        text-align: right;\n",
       "    }\n",
       "</style>\n",
       "<table border=\"1\" class=\"dataframe\">\n",
       "  <thead>\n",
       "    <tr style=\"text-align: right;\">\n",
       "      <th></th>\n",
       "      <th>Recency (months)</th>\n",
       "      <th>Frequency (times)</th>\n",
       "      <th>Monetary (c.c. blood)</th>\n",
       "      <th>Time (months)</th>\n",
       "      <th>whether he/she donated blood in March 2007</th>\n",
       "    </tr>\n",
       "  </thead>\n",
       "  <tbody>\n",
       "    <tr>\n",
       "      <th>0</th>\n",
       "      <td>2</td>\n",
       "      <td>50</td>\n",
       "      <td>12500</td>\n",
       "      <td>98</td>\n",
       "      <td>1</td>\n",
       "    </tr>\n",
       "    <tr>\n",
       "      <th>1</th>\n",
       "      <td>0</td>\n",
       "      <td>13</td>\n",
       "      <td>3250</td>\n",
       "      <td>28</td>\n",
       "      <td>1</td>\n",
       "    </tr>\n",
       "    <tr>\n",
       "      <th>2</th>\n",
       "      <td>1</td>\n",
       "      <td>16</td>\n",
       "      <td>4000</td>\n",
       "      <td>35</td>\n",
       "      <td>1</td>\n",
       "    </tr>\n",
       "    <tr>\n",
       "      <th>3</th>\n",
       "      <td>2</td>\n",
       "      <td>20</td>\n",
       "      <td>5000</td>\n",
       "      <td>45</td>\n",
       "      <td>1</td>\n",
       "    </tr>\n",
       "    <tr>\n",
       "      <th>4</th>\n",
       "      <td>1</td>\n",
       "      <td>24</td>\n",
       "      <td>6000</td>\n",
       "      <td>77</td>\n",
       "      <td>0</td>\n",
       "    </tr>\n",
       "  </tbody>\n",
       "</table>\n",
       "</div>"
      ],
      "text/plain": [
       "   Recency (months)  Frequency (times)  Monetary (c.c. blood)  Time (months)   \n",
       "0                 2                 50                  12500             98  \\\n",
       "1                 0                 13                   3250             28   \n",
       "2                 1                 16                   4000             35   \n",
       "3                 2                 20                   5000             45   \n",
       "4                 1                 24                   6000             77   \n",
       "\n",
       "   whether he/she donated blood in March 2007  \n",
       "0                                           1  \n",
       "1                                           1  \n",
       "2                                           1  \n",
       "3                                           1  \n",
       "4                                           0  "
      ]
     },
     "execution_count": 231,
     "metadata": {},
     "output_type": "execute_result"
    }
   ],
   "source": [
    "data = pd.read_csv('./datasets/transfusion.data')\n",
    "data.head()"
   ]
  },
  {
   "cell_type": "markdown",
   "metadata": {},
   "source": [
    "- **Recency**: Months since last donation\n",
    "- **Frequency**: Total number of donation\n",
    "- **Monetary**: Total blood donated in c.c\n",
    "- **Time**: Months since first donation"
   ]
  },
  {
   "cell_type": "code",
   "execution_count": 232,
   "metadata": {},
   "outputs": [
    {
     "name": "stdout",
     "output_type": "stream",
     "text": [
      "<class 'pandas.core.frame.DataFrame'>\n",
      "RangeIndex: 748 entries, 0 to 747\n",
      "Data columns (total 5 columns):\n",
      " #   Column                                      Non-Null Count  Dtype\n",
      "---  ------                                      --------------  -----\n",
      " 0   Recency (months)                            748 non-null    int64\n",
      " 1   Frequency (times)                           748 non-null    int64\n",
      " 2   Monetary (c.c. blood)                       748 non-null    int64\n",
      " 3   Time (months)                               748 non-null    int64\n",
      " 4   whether he/she donated blood in March 2007  748 non-null    int64\n",
      "dtypes: int64(5)\n",
      "memory usage: 29.3 KB\n"
     ]
    }
   ],
   "source": [
    "data.info()"
   ]
  },
  {
   "cell_type": "markdown",
   "metadata": {},
   "source": [
    "## Data Preprocessing"
   ]
  },
  {
   "cell_type": "code",
   "execution_count": 233,
   "metadata": {},
   "outputs": [],
   "source": [
    "data.rename(\n",
    "    columns = {\n",
    "        'whether he/she donated blood in March 2007': 'blood_gave'\n",
    "    }\n",
    ", inplace = True)"
   ]
  },
  {
   "cell_type": "markdown",
   "metadata": {},
   "source": [
    "## EDA"
   ]
  },
  {
   "cell_type": "code",
   "execution_count": 234,
   "metadata": {},
   "outputs": [
    {
     "data": {
      "image/png": "[encoded data removed]",
      "text/plain": [
       "<Figure size 640x480 with 1 Axes>"
      ]
     },
     "metadata": {},
     "output_type": "display_data"
    }
   ],
   "source": [
    "sns.countplot(x = 'blood_gave', data = data)\n",
    "plt.xlabel(\"Whether he/she donated blood in March 2007\")\n",
    "plt.xticks((0, 1), (\"No\", \"Yes\"));"
   ]
  },
  {
   "cell_type": "markdown",
   "metadata": {},
   "source": [
    "- This is clearly an imbalanced dataset"
   ]
  },
  {
   "cell_type": "code",
   "execution_count": 235,
   "metadata": {},
   "outputs": [
    {
     "data": {
      "image/png": "[encoded data removed]",
      "text/plain": [
       "<Figure size 640x480 with 1 Axes>"
      ]
     },
     "metadata": {},
     "output_type": "display_data"
    }
   ],
   "source": [
    "sns.histplot(x = \"Recency (months)\", data = data, hue = 'blood_gave');"
   ]
  },
  {
   "cell_type": "code",
   "execution_count": 236,
   "metadata": {},
   "outputs": [
    {
     "data": {
      "image/png": "[encoded data removed]",
      "text/plain": [
       "<Figure size 640x480 with 1 Axes>"
      ]
     },
     "metadata": {},
     "output_type": "display_data"
    }
   ],
   "source": [
    "sns.histplot(x = \"Frequency (times)\", data = data, hue = 'blood_gave');"
   ]
  },
  {
   "cell_type": "code",
   "execution_count": 237,
   "metadata": {},
   "outputs": [
    {
     "data": {
      "image/png": "[encoded data removed]",
      "text/plain": [
       "<Figure size 640x480 with 1 Axes>"
      ]
     },
     "metadata": {},
     "output_type": "display_data"
    }
   ],
   "source": [
    "sns.histplot(x = \"Monetary (c.c. blood)\", data = data, hue = 'blood_gave');"
   ]
  },
  {
   "cell_type": "code",
   "execution_count": 238,
   "metadata": {},
   "outputs": [
    {
     "data": {
      "image/png": "[encoded data removed]",
      "text/plain": [
       "<Figure size 640x480 with 1 Axes>"
      ]
     },
     "metadata": {},
     "output_type": "display_data"
    }
   ],
   "source": [
    "sns.histplot(x = \"Time (months)\", data = data, hue = 'blood_gave');"
   ]
  },
  {
   "cell_type": "markdown",
   "metadata": {},
   "source": [
    "## Train test split"
   ]
  },
  {
   "cell_type": "code",
   "execution_count": 239,
   "metadata": {},
   "outputs": [],
   "source": [
    "X = data.iloc[:, :-1].values\n",
    "y = data.iloc[:, -1].values"
   ]
  },
  {
   "cell_type": "code",
   "execution_count": 240,
   "metadata": {},
   "outputs": [
    {
     "data": {
      "text/plain": [
       "0    0.762032\n",
       "1    0.237968\n",
       "Name: proportion, dtype: float64"
      ]
     },
     "execution_count": 240,
     "metadata": {},
     "output_type": "execute_result"
    }
   ],
   "source": [
    "pd.Series(y).value_counts(normalize = True)"
   ]
  },
  {
   "cell_type": "markdown",
   "metadata": {},
   "source": [
    "- Mitigating the class imbalance problem"
   ]
  },
  {
   "cell_type": "code",
   "execution_count": 241,
   "metadata": {},
   "outputs": [],
   "source": [
    "over_sampler = RandomOverSampler(random_state = 1)\n",
    "X, y = over_sampler.fit_resample(X, y)"
   ]
  },
  {
   "cell_type": "code",
   "execution_count": 242,
   "metadata": {},
   "outputs": [
    {
     "data": {
      "text/plain": [
       "1    0.5\n",
       "0    0.5\n",
       "Name: proportion, dtype: float64"
      ]
     },
     "execution_count": 242,
     "metadata": {},
     "output_type": "execute_result"
    }
   ],
   "source": [
    "pd.Series(y).value_counts(normalize = True)"
   ]
  },
  {
   "cell_type": "code",
   "execution_count": 243,
   "metadata": {},
   "outputs": [],
   "source": [
    "X_train, X_test, y_train, y_test = train_test_split(X, y, test_size = 0.2, random_state = 42)"
   ]
  },
  {
   "cell_type": "code",
   "execution_count": 244,
   "metadata": {},
   "outputs": [],
   "source": [
    "scaler = MinMaxScaler()\n",
    "X_train = scaler.fit_transform(X_train)\n",
    "X_test = scaler.transform(X_test)"
   ]
  },
  {
   "cell_type": "markdown",
   "metadata": {},
   "source": [
    "## Modelling Experiments"
   ]
  },
  {
   "cell_type": "code",
   "execution_count": 245,
   "metadata": {},
   "outputs": [],
   "source": [
    "def model_performance(y_test, y_pred):\n",
    "    return {\n",
    "        'accuracy': np.round(accuracy_score(y_test, y_pred), 2),\n",
    "        'recall': np.round(recall_score(y_test, y_pred), 2),\n",
    "        'precision': np.round(precision_score(y_test, y_pred), 2),\n",
    "        'f1_score': np.round(f1_score(y_test, y_pred), 2),\n",
    "    }"
   ]
  },
  {
   "cell_type": "markdown",
   "metadata": {},
   "source": [
    "### Model1: Logistic Regression"
   ]
  },
  {
   "cell_type": "code",
   "execution_count": 246,
   "metadata": {},
   "outputs": [
    {
     "data": {
      "text/plain": [
       "{'accuracy': 0.66, 'recall': 0.68, 'precision': 0.62, 'f1_score': 0.65}"
      ]
     },
     "execution_count": 246,
     "metadata": {},
     "output_type": "execute_result"
    }
   ],
   "source": [
    "log_reg = LogisticRegression()\n",
    "log_reg.fit(X_train, y_train)\n",
    "\n",
    "y_pred = np.round(log_reg.predict(X_test))\n",
    "log_reg_perf = model_performance(y_test, y_pred)\n",
    "log_reg_perf"
   ]
  },
  {
   "cell_type": "markdown",
   "metadata": {},
   "source": [
    "### Model2: Decision Tree"
   ]
  },
  {
   "cell_type": "code",
   "execution_count": 247,
   "metadata": {},
   "outputs": [
    {
     "data": {
      "text/plain": [
       "{'accuracy': 0.8, 'recall': 0.87, 'precision': 0.74, 'f1_score': 0.8}"
      ]
     },
     "execution_count": 247,
     "metadata": {},
     "output_type": "execute_result"
    }
   ],
   "source": [
    "dtree = DecisionTreeClassifier(random_state = 1)\n",
    "dtree.fit(X_train, y_train)\n",
    "\n",
    "y_pred = np.round(dtree.predict(X_test))\n",
    "dtree_perf = model_performance(y_test, y_pred)\n",
    "dtree_perf"
   ]
  },
  {
   "cell_type": "markdown",
   "metadata": {},
   "source": [
    "### Model3: Random Forest"
   ]
  },
  {
   "cell_type": "code",
   "execution_count": 248,
   "metadata": {},
   "outputs": [
    {
     "data": {
      "text/plain": [
       "{'accuracy': 0.81, 'recall': 0.88, 'precision': 0.76, 'f1_score': 0.81}"
      ]
     },
     "execution_count": 248,
     "metadata": {},
     "output_type": "execute_result"
    }
   ],
   "source": [
    "rdf = RandomForestClassifier(random_state = 1)\n",
    "rdf.fit(X_train, y_train)\n",
    "\n",
    "y_pred = np.round(rdf.predict(X_test))\n",
    "rdf_perf = model_performance(y_test, y_pred)\n",
    "rdf_perf"
   ]
  },
  {
   "cell_type": "markdown",
   "metadata": {},
   "source": [
    "### Model4: SVM"
   ]
  },
  {
   "cell_type": "code",
   "execution_count": 249,
   "metadata": {},
   "outputs": [
    {
     "data": {
      "text/plain": [
       "{'accuracy': 0.66, 'recall': 0.64, 'precision': 0.63, 'f1_score': 0.64}"
      ]
     },
     "execution_count": 249,
     "metadata": {},
     "output_type": "execute_result"
    }
   ],
   "source": [
    "svc = SVC(kernel = 'rbf')\n",
    "svc.fit(X_train, y_train)\n",
    "\n",
    "y_pred = np.round(svc.predict(X_test))\n",
    "svc_perf = model_performance(y_test, y_pred)\n",
    "svc_perf"
   ]
  },
  {
   "cell_type": "markdown",
   "metadata": {},
   "source": [
    "### Model5: KNN"
   ]
  },
  {
   "cell_type": "markdown",
   "metadata": {},
   "source": [
    "- Finding the optimal `K` value"
   ]
  },
  {
   "cell_type": "code",
   "execution_count": 250,
   "metadata": {},
   "outputs": [],
   "source": [
    "acc = []\n",
    "for k in range(1, len(X_train) + 1):\n",
    "    knn = KNeighborsClassifier(n_neighbors = k, n_jobs = -1)\n",
    "    knn.fit(X_train, y_train)\n",
    "    acc.append(accuracy_score(y_test, np.round(knn.predict(X_test))))"
   ]
  },
  {
   "cell_type": "code",
   "execution_count": 251,
   "metadata": {},
   "outputs": [],
   "source": [
    "optimal_k = np.argmax(np.array(acc)) + 1    # As, index starts from 0"
   ]
  },
  {
   "cell_type": "code",
   "execution_count": 267,
   "metadata": {},
   "outputs": [
    {
     "data": {
      "image/png": "[encoded data removed]",
      "text/plain": [
       "<Figure size 1500x300 with 1 Axes>"
      ]
     },
     "metadata": {},
     "output_type": "display_data"
    }
   ],
   "source": [
    "plt.figure(figsize = (15, 3))\n",
    "sns.lineplot(acc, color = 'green')\n",
    "plt.axvline(x = optimal_k - 1, linestyle = '-.', ymax = 1, ymin = 0.1)\n",
    "plt.text(x = optimal_k - 6.5, y = min(acc), s = f\"k={optimal_k}\");\n",
    "plt.xlabel(\"K values\")\n",
    "plt.ylabel(\"Accuracy\");"
   ]
  },
  {
   "cell_type": "code",
   "execution_count": 253,
   "metadata": {},
   "outputs": [
    {
     "data": {
      "text/plain": [
       "{'accuracy': 0.79, 'recall': 0.88, 'precision': 0.73, 'f1_score': 0.8}"
      ]
     },
     "execution_count": 253,
     "metadata": {},
     "output_type": "execute_result"
    }
   ],
   "source": [
    "knn = KNeighborsClassifier(n_neighbors = optimal_k, n_jobs = -1)\n",
    "knn.fit(X_train, y_train)\n",
    "\n",
    "y_pred = np.round(knn.predict(X_test))\n",
    "knn_perf = model_performance(y_test, y_pred)\n",
    "knn_perf"
   ]
  },
  {
   "cell_type": "markdown",
   "metadata": {},
   "source": [
    "### Model6: Naive Bayes"
   ]
  },
  {
   "cell_type": "code",
   "execution_count": 254,
   "metadata": {},
   "outputs": [
    {
     "data": {
      "text/plain": [
       "{'accuracy': 0.65, 'recall': 0.55, 'precision': 0.64, 'f1_score': 0.59}"
      ]
     },
     "execution_count": 254,
     "metadata": {},
     "output_type": "execute_result"
    }
   ],
   "source": [
    "nb = GaussianNB()\n",
    "nb.fit(X_train, y_train)\n",
    "\n",
    "y_pred = np.round(nb.predict(X_test))\n",
    "nb_perf = model_performance(y_test, y_pred)\n",
    "nb_perf"
   ]
  },
  {
   "cell_type": "markdown",
   "metadata": {},
   "source": [
    "### Model7: Gradient Boosting"
   ]
  },
  {
   "cell_type": "code",
   "execution_count": 255,
   "metadata": {},
   "outputs": [
    {
     "data": {
      "text/plain": [
       "{'accuracy': 0.68, 'recall': 0.62, 'precision': 0.67, 'f1_score': 0.65}"
      ]
     },
     "execution_count": 255,
     "metadata": {},
     "output_type": "execute_result"
    }
   ],
   "source": [
    "gb = GradientBoostingClassifier()\n",
    "gb.fit(X_train, y_train)\n",
    "\n",
    "y_pred = np.round(gb.predict(X_test))\n",
    "gb_perf = model_performance(y_test, y_pred)\n",
    "gb_perf"
   ]
  },
  {
   "cell_type": "markdown",
   "metadata": {},
   "source": [
    "### Model8: XGBoost"
   ]
  },
  {
   "cell_type": "code",
   "execution_count": 256,
   "metadata": {},
   "outputs": [
    {
     "data": {
      "text/plain": [
       "{'accuracy': 0.82, 'recall': 0.89, 'precision': 0.77, 'f1_score': 0.82}"
      ]
     },
     "execution_count": 256,
     "metadata": {},
     "output_type": "execute_result"
    }
   ],
   "source": [
    "xgb = XGBClassifier()\n",
    "xgb.fit(X_train, y_train)\n",
    "\n",
    "y_pred = np.round(xgb.predict(X_test))\n",
    "xgb_perf = model_performance(y_test, y_pred)\n",
    "xgb_perf"
   ]
  },
  {
   "cell_type": "markdown",
   "metadata": {},
   "source": [
    "### Model9: LightGBM"
   ]
  },
  {
   "cell_type": "code",
   "execution_count": 257,
   "metadata": {},
   "outputs": [
    {
     "name": "stdout",
     "output_type": "stream",
     "text": [
      "[LightGBM] [Info] Number of positive: 464, number of negative: 448\n",
      "[LightGBM] [Info] Auto-choosing col-wise multi-threading, the overhead of testing was 0.000062 seconds.\n",
      "You can set `force_col_wise=true` to remove the overhead.\n",
      "[LightGBM] [Info] Total Bins 133\n",
      "[LightGBM] [Info] Number of data points in the train set: 912, number of used features: 4\n",
      "[LightGBM] [Info] [binary:BoostFromScore]: pavg=0.508772 -> initscore=0.035091\n",
      "[LightGBM] [Info] Start training from score 0.035091\n",
      "[LightGBM] [Warning] No further splits with positive gain, best gain: -inf\n",
      "[LightGBM] [Warning] No further splits with positive gain, best gain: -inf\n",
      "[LightGBM] [Warning] No further splits with positive gain, best gain: -inf\n",
      "[LightGBM] [Warning] No further splits with positive gain, best gain: -inf\n",
      "[LightGBM] [Warning] No further splits with positive gain, best gain: -inf\n",
      "[LightGBM] [Warning] No further splits with positive gain, best gain: -inf\n",
      "[LightGBM] [Warning] No further splits with positive gain, best gain: -inf\n",
      "[LightGBM] [Warning] No further splits with positive gain, best gain: -inf\n",
      "[LightGBM] [Warning] No further splits with positive gain, best gain: -inf\n"
     ]
    },
    {
     "data": {
      "text/plain": [
       "{'accuracy': 0.78, 'recall': 0.82, 'precision': 0.73, 'f1_score': 0.77}"
      ]
     },
     "execution_count": 257,
     "metadata": {},
     "output_type": "execute_result"
    }
   ],
   "source": [
    "lgbm = LGBMClassifier()\n",
    "lgbm.fit(X_train, y_train)\n",
    "\n",
    "y_pred = np.round(lgbm.predict(X_test))\n",
    "lgbm_perf = model_performance(y_test, y_pred)\n",
    "lgbm_perf"
   ]
  },
  {
   "cell_type": "markdown",
   "metadata": {},
   "source": [
    "### Model10: CatBoost"
   ]
  },
  {
   "cell_type": "code",
   "execution_count": 258,
   "metadata": {},
   "outputs": [
    {
     "data": {
      "text/plain": [
       "{'accuracy': 0.75, 'recall': 0.77, 'precision': 0.71, 'f1_score': 0.74}"
      ]
     },
     "execution_count": 258,
     "metadata": {},
     "output_type": "execute_result"
    }
   ],
   "source": [
    "ctb = CatBoostClassifier(verbose = 0)\n",
    "ctb.fit(X_train, y_train)\n",
    "\n",
    "y_pred = np.round(ctb.predict(X_test))\n",
    "ctb_perf = model_performance(y_test, y_pred)\n",
    "ctb_perf"
   ]
  },
  {
   "cell_type": "markdown",
   "metadata": {},
   "source": [
    "## Model Performance Summary"
   ]
  },
  {
   "cell_type": "code",
   "execution_count": 259,
   "metadata": {},
   "outputs": [],
   "source": [
    "model_performance_df = pd.DataFrame(\n",
    "    [log_reg_perf.values(),\n",
    "    knn_perf.values(),\n",
    "    svc_perf.values(),\n",
    "    dtree_perf.values(),\n",
    "    rdf_perf.values(),\n",
    "    gb_perf.values(),\n",
    "    nb_perf.values(),\n",
    "    xgb_perf.values(),\n",
    "    lgbm_perf.values(),\n",
    "    ctb_perf.values()],\n",
    "    columns = log_reg_perf.keys(),\n",
    "    index = [\"logistic_regression\", \"knn\", \"svc\", \"decision_tree\", \"random_forest\", \"gradient_boosting\", \n",
    "             \"naive_bayes\", \"xgboost\", \"light_gbm\", \"catboost\"]\n",
    ")"
   ]
  },
  {
   "cell_type": "code",
   "execution_count": 260,
   "metadata": {},
   "outputs": [
    {
     "data": {
      "text/html": [
       "<style type=\"text/css\">\n",
       "#T_cec4c_row0_col0, #T_cec4c_row0_col1, #T_cec4c_row0_col2, #T_cec4c_row0_col3 {\n",
       "  background-color: #006837;\n",
       "  color: #f1f1f1;\n",
       "}\n",
       "#T_cec4c_row1_col0, #T_cec4c_row2_col1 {\n",
       "  background-color: #0f8446;\n",
       "  color: #f1f1f1;\n",
       "}\n",
       "#T_cec4c_row1_col1, #T_cec4c_row3_col1 {\n",
       "  background-color: #07753e;\n",
       "  color: #f1f1f1;\n",
       "}\n",
       "#T_cec4c_row1_col2 {\n",
       "  background-color: #118848;\n",
       "  color: #f1f1f1;\n",
       "}\n",
       "#T_cec4c_row1_col3 {\n",
       "  background-color: #0b7d42;\n",
       "  color: #f1f1f1;\n",
       "}\n",
       "#T_cec4c_row2_col0 {\n",
       "  background-color: #279f53;\n",
       "  color: #f1f1f1;\n",
       "}\n",
       "#T_cec4c_row2_col2 {\n",
       "  background-color: #66bd63;\n",
       "  color: #f1f1f1;\n",
       "}\n",
       "#T_cec4c_row2_col3, #T_cec4c_row3_col3 {\n",
       "  background-color: #16914d;\n",
       "  color: #f1f1f1;\n",
       "}\n",
       "#T_cec4c_row3_col0 {\n",
       "  background-color: #54b45f;\n",
       "  color: #f1f1f1;\n",
       "}\n",
       "#T_cec4c_row3_col2, #T_cec4c_row4_col2 {\n",
       "  background-color: #91d068;\n",
       "  color: #000000;\n",
       "}\n",
       "#T_cec4c_row4_col0 {\n",
       "  background-color: #7dc765;\n",
       "  color: #000000;\n",
       "}\n",
       "#T_cec4c_row4_col1 {\n",
       "  background-color: #69be63;\n",
       "  color: #f1f1f1;\n",
       "}\n",
       "#T_cec4c_row4_col3 {\n",
       "  background-color: #70c164;\n",
       "  color: #000000;\n",
       "}\n",
       "#T_cec4c_row5_col0 {\n",
       "  background-color: #ddf191;\n",
       "  color: #000000;\n",
       "}\n",
       "#T_cec4c_row5_col1 {\n",
       "  background-color: #c1e57b;\n",
       "  color: #000000;\n",
       "}\n",
       "#T_cec4c_row5_col2 {\n",
       "  background-color: #d9ef8b;\n",
       "  color: #000000;\n",
       "}\n",
       "#T_cec4c_row5_col3 {\n",
       "  background-color: #bfe47a;\n",
       "  color: #000000;\n",
       "}\n",
       "#T_cec4c_row6_col0 {\n",
       "  background-color: #ed5f3c;\n",
       "  color: #f1f1f1;\n",
       "}\n",
       "#T_cec4c_row6_col1 {\n",
       "  background-color: #f47044;\n",
       "  color: #f1f1f1;\n",
       "}\n",
       "#T_cec4c_row6_col2 {\n",
       "  background-color: #fdbf6f;\n",
       "  color: #000000;\n",
       "}\n",
       "#T_cec4c_row6_col3, #T_cec4c_row7_col3 {\n",
       "  background-color: #f99355;\n",
       "  color: #000000;\n",
       "}\n",
       "#T_cec4c_row7_col0, #T_cec4c_row8_col0 {\n",
       "  background-color: #c21c27;\n",
       "  color: #f1f1f1;\n",
       "}\n",
       "#T_cec4c_row7_col1 {\n",
       "  background-color: #fed683;\n",
       "  color: #000000;\n",
       "}\n",
       "#T_cec4c_row7_col2, #T_cec4c_row9_col0, #T_cec4c_row9_col1, #T_cec4c_row9_col3 {\n",
       "  background-color: #a50026;\n",
       "  color: #f1f1f1;\n",
       "}\n",
       "#T_cec4c_row8_col1 {\n",
       "  background-color: #fa9656;\n",
       "  color: #000000;\n",
       "}\n",
       "#T_cec4c_row8_col2 {\n",
       "  background-color: #c62027;\n",
       "  color: #f1f1f1;\n",
       "}\n",
       "#T_cec4c_row8_col3 {\n",
       "  background-color: #f57748;\n",
       "  color: #f1f1f1;\n",
       "}\n",
       "#T_cec4c_row9_col2 {\n",
       "  background-color: #e14430;\n",
       "  color: #f1f1f1;\n",
       "}\n",
       "</style>\n",
       "<table id=\"T_cec4c\">\n",
       "  <thead>\n",
       "    <tr>\n",
       "      <th class=\"blank level0\" >&nbsp;</th>\n",
       "      <th id=\"T_cec4c_level0_col0\" class=\"col_heading level0 col0\" >accuracy</th>\n",
       "      <th id=\"T_cec4c_level0_col1\" class=\"col_heading level0 col1\" >recall</th>\n",
       "      <th id=\"T_cec4c_level0_col2\" class=\"col_heading level0 col2\" >precision</th>\n",
       "      <th id=\"T_cec4c_level0_col3\" class=\"col_heading level0 col3\" >f1_score</th>\n",
       "    </tr>\n",
       "  </thead>\n",
       "  <tbody>\n",
       "    <tr>\n",
       "      <th id=\"T_cec4c_level0_row0\" class=\"row_heading level0 row0\" >xgboost</th>\n",
       "      <td id=\"T_cec4c_row0_col0\" class=\"data row0 col0\" >0.820000</td>\n",
       "      <td id=\"T_cec4c_row0_col1\" class=\"data row0 col1\" >0.890000</td>\n",
       "      <td id=\"T_cec4c_row0_col2\" class=\"data row0 col2\" >0.770000</td>\n",
       "      <td id=\"T_cec4c_row0_col3\" class=\"data row0 col3\" >0.820000</td>\n",
       "    </tr>\n",
       "    <tr>\n",
       "      <th id=\"T_cec4c_level0_row1\" class=\"row_heading level0 row1\" >random_forest</th>\n",
       "      <td id=\"T_cec4c_row1_col0\" class=\"data row1 col0\" >0.810000</td>\n",
       "      <td id=\"T_cec4c_row1_col1\" class=\"data row1 col1\" >0.880000</td>\n",
       "      <td id=\"T_cec4c_row1_col2\" class=\"data row1 col2\" >0.760000</td>\n",
       "      <td id=\"T_cec4c_row1_col3\" class=\"data row1 col3\" >0.810000</td>\n",
       "    </tr>\n",
       "    <tr>\n",
       "      <th id=\"T_cec4c_level0_row2\" class=\"row_heading level0 row2\" >decision_tree</th>\n",
       "      <td id=\"T_cec4c_row2_col0\" class=\"data row2 col0\" >0.800000</td>\n",
       "      <td id=\"T_cec4c_row2_col1\" class=\"data row2 col1\" >0.870000</td>\n",
       "      <td id=\"T_cec4c_row2_col2\" class=\"data row2 col2\" >0.740000</td>\n",
       "      <td id=\"T_cec4c_row2_col3\" class=\"data row2 col3\" >0.800000</td>\n",
       "    </tr>\n",
       "    <tr>\n",
       "      <th id=\"T_cec4c_level0_row3\" class=\"row_heading level0 row3\" >knn</th>\n",
       "      <td id=\"T_cec4c_row3_col0\" class=\"data row3 col0\" >0.790000</td>\n",
       "      <td id=\"T_cec4c_row3_col1\" class=\"data row3 col1\" >0.880000</td>\n",
       "      <td id=\"T_cec4c_row3_col2\" class=\"data row3 col2\" >0.730000</td>\n",
       "      <td id=\"T_cec4c_row3_col3\" class=\"data row3 col3\" >0.800000</td>\n",
       "    </tr>\n",
       "    <tr>\n",
       "      <th id=\"T_cec4c_level0_row4\" class=\"row_heading level0 row4\" >light_gbm</th>\n",
       "      <td id=\"T_cec4c_row4_col0\" class=\"data row4 col0\" >0.780000</td>\n",
       "      <td id=\"T_cec4c_row4_col1\" class=\"data row4 col1\" >0.820000</td>\n",
       "      <td id=\"T_cec4c_row4_col2\" class=\"data row4 col2\" >0.730000</td>\n",
       "      <td id=\"T_cec4c_row4_col3\" class=\"data row4 col3\" >0.770000</td>\n",
       "    </tr>\n",
       "    <tr>\n",
       "      <th id=\"T_cec4c_level0_row5\" class=\"row_heading level0 row5\" >catboost</th>\n",
       "      <td id=\"T_cec4c_row5_col0\" class=\"data row5 col0\" >0.750000</td>\n",
       "      <td id=\"T_cec4c_row5_col1\" class=\"data row5 col1\" >0.770000</td>\n",
       "      <td id=\"T_cec4c_row5_col2\" class=\"data row5 col2\" >0.710000</td>\n",
       "      <td id=\"T_cec4c_row5_col3\" class=\"data row5 col3\" >0.740000</td>\n",
       "    </tr>\n",
       "    <tr>\n",
       "      <th id=\"T_cec4c_level0_row6\" class=\"row_heading level0 row6\" >gradient_boosting</th>\n",
       "      <td id=\"T_cec4c_row6_col0\" class=\"data row6 col0\" >0.680000</td>\n",
       "      <td id=\"T_cec4c_row6_col1\" class=\"data row6 col1\" >0.620000</td>\n",
       "      <td id=\"T_cec4c_row6_col2\" class=\"data row6 col2\" >0.670000</td>\n",
       "      <td id=\"T_cec4c_row6_col3\" class=\"data row6 col3\" >0.650000</td>\n",
       "    </tr>\n",
       "    <tr>\n",
       "      <th id=\"T_cec4c_level0_row7\" class=\"row_heading level0 row7\" >logistic_regression</th>\n",
       "      <td id=\"T_cec4c_row7_col0\" class=\"data row7 col0\" >0.660000</td>\n",
       "      <td id=\"T_cec4c_row7_col1\" class=\"data row7 col1\" >0.680000</td>\n",
       "      <td id=\"T_cec4c_row7_col2\" class=\"data row7 col2\" >0.620000</td>\n",
       "      <td id=\"T_cec4c_row7_col3\" class=\"data row7 col3\" >0.650000</td>\n",
       "    </tr>\n",
       "    <tr>\n",
       "      <th id=\"T_cec4c_level0_row8\" class=\"row_heading level0 row8\" >svc</th>\n",
       "      <td id=\"T_cec4c_row8_col0\" class=\"data row8 col0\" >0.660000</td>\n",
       "      <td id=\"T_cec4c_row8_col1\" class=\"data row8 col1\" >0.640000</td>\n",
       "      <td id=\"T_cec4c_row8_col2\" class=\"data row8 col2\" >0.630000</td>\n",
       "      <td id=\"T_cec4c_row8_col3\" class=\"data row8 col3\" >0.640000</td>\n",
       "    </tr>\n",
       "    <tr>\n",
       "      <th id=\"T_cec4c_level0_row9\" class=\"row_heading level0 row9\" >naive_bayes</th>\n",
       "      <td id=\"T_cec4c_row9_col0\" class=\"data row9 col0\" >0.650000</td>\n",
       "      <td id=\"T_cec4c_row9_col1\" class=\"data row9 col1\" >0.550000</td>\n",
       "      <td id=\"T_cec4c_row9_col2\" class=\"data row9 col2\" >0.640000</td>\n",
       "      <td id=\"T_cec4c_row9_col3\" class=\"data row9 col3\" >0.590000</td>\n",
       "    </tr>\n",
       "  </tbody>\n",
       "</table>\n"
      ],
      "text/plain": [
       "<pandas.io.formats.style.Styler at 0x1e84a8f4810>"
      ]
     },
     "execution_count": 260,
     "metadata": {},
     "output_type": "execute_result"
    }
   ],
   "source": [
    "model_performance_df.sort_values(by = 'accuracy', ascending = False).style.background_gradient(cmap = 'RdYlGn')"
   ]
  },
  {
   "cell_type": "markdown",
   "metadata": {},
   "source": [
    "- **Best performing model** is `XGBoost` with accuracy `0.82`"
   ]
  },
  {
   "cell_type": "code",
   "execution_count": 269,
   "metadata": {},
   "outputs": [],
   "source": [
    "y_pred = xgb.predict(X_test)"
   ]
  },
  {
   "cell_type": "code",
   "execution_count": 287,
   "metadata": {},
   "outputs": [
    {
     "data": {
      "image/png": "[encoded data removed]",
      "text/plain": [
       "<Figure size 640x480 with 2 Axes>"
      ]
     },
     "metadata": {},
     "output_type": "display_data"
    }
   ],
   "source": [
    "sns.heatmap(confusion_matrix(y_test, y_pred), annot = True, fmt = 'd', cmap = 'RdYlGn')\n",
    "plt.xticks((0.5, 1.5), (\"No\", \"Yes\"))\n",
    "plt.yticks((0.5, 1.5), (\"No\", \"Yes\"))\n",
    "plt.xlabel(\"Predicted\")\n",
    "plt.ylabel(\"Actual\")\n",
    "plt.title(\"Confuson Matrix\", fontweight = 'bold');"
   ]
  },
  {
   "cell_type": "code",
   "execution_count": null,
   "metadata": {},
   "outputs": [],
   "source": []
  }
 ],
 "metadata": {
  "kernelspec": {
   "display_name": "Python 3",
   "language": "python",
   "name": "python3"
  },
  "language_info": {
   "codemirror_mode": {
    "name": "ipython",
    "version": 3
   },
   "file_extension": ".py",
   "mimetype": "text/x-python",
   "name": "python",
   "nbconvert_exporter": "python",
   "pygments_lexer": "ipython3",
   "version": "3.11.3"
  }
 },
 "nbformat": 4,
 "nbformat_minor": 2
}
